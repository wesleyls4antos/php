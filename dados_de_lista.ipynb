{
  "nbformat": 4,
  "nbformat_minor": 0,
  "metadata": {
    "colab": {
      "provenance": [],
      "authorship_tag": "ABX9TyPOZu+yqZwfE/HyKLJmDdnz",
      "include_colab_link": true
    },
    "kernelspec": {
      "name": "python3",
      "display_name": "Python 3"
    },
    "language_info": {
      "name": "python"
    }
  },
  "cells": [
    {
      "cell_type": "markdown",
      "metadata": {
        "id": "view-in-github",
        "colab_type": "text"
      },
      "source": [
        "<a href=\"https://colab.research.google.com/github/wesleyls4antos/php/blob/main/dados_de_lista.ipynb\" target=\"_parent\"><img src=\"https://colab.research.google.com/assets/colab-badge.svg\" alt=\"Open In Colab\"/></a>"
      ]
    },
    {
      "cell_type": "code",
      "source": [
        "#Acessando elementos da lista\n",
        "lista = [1, 2, 3, \"quatro\", \"cinco\"]"
      ],
      "metadata": {
        "id": "y22lJr1ebz8c"
      },
      "execution_count": 2,
      "outputs": []
    },
    {
      "cell_type": "code",
      "source": [
        "print(lista[1])\n",
        "print(lista[4])"
      ],
      "metadata": {
        "colab": {
          "base_uri": "https://localhost:8080/"
        },
        "id": "vlUHKZFRdjrV",
        "outputId": "876d1874-7b5c-4997-c033-9ce001fa2816"
      },
      "execution_count": 4,
      "outputs": [
        {
          "output_type": "stream",
          "name": "stdout",
          "text": [
            "2\n",
            "cinco\n"
          ]
        }
      ]
    },
    {
      "cell_type": "code",
      "source": [
        "#pegar os numeros de um LISTA\n",
        "#Criar outra lista com o dobro\n",
        "nums = [6, 5, 2, 1, 7]\n",
        "def dobro(lista):\n",
        "  dobrolista = []\n",
        "  for n in lista:\n",
        "    dobrolista.append(n*2)\n",
        "  return dobrolista\n",
        "\n",
        "dobro(nums)"
      ],
      "metadata": {
        "colab": {
          "base_uri": "https://localhost:8080/"
        },
        "id": "cNh4wBwVlvUr",
        "outputId": "aa7ae982-5d5a-43bb-ae8f-870b39d5fdf2"
      },
      "execution_count": 5,
      "outputs": [
        {
          "output_type": "execute_result",
          "data": {
            "text/plain": [
              "[12, 10, 4, 2, 14]"
            ]
          },
          "metadata": {},
          "execution_count": 5
        }
      ]
    },
    {
      "cell_type": "code",
      "source": [
        "#MAP map precisa de uma (função,iteravel)\n",
        "newList = list(map(lambda x: x*2, nums))\n",
        "\n",
        "newList"
      ],
      "metadata": {
        "colab": {
          "base_uri": "https://localhost:8080/"
        },
        "id": "ekrpOlUmnC6j",
        "outputId": "ab2cb43a-e212-43fb-d216-b21d944d27f9"
      },
      "execution_count": 7,
      "outputs": [
        {
          "output_type": "execute_result",
          "data": {
            "text/plain": [
              "[12, 10, 4, 2, 14]"
            ]
          },
          "metadata": {},
          "execution_count": 7
        }
      ]
    },
    {
      "cell_type": "code",
      "source": [
        "#Recebe os valores de uma lista numerica e retorna o quadrado\n",
        "nums = [4, 5, 2, 3, 7]\n",
        "novaList = list(map(lambda x: x*x, nums))\n",
        "novaList"
      ],
      "metadata": {
        "colab": {
          "base_uri": "https://localhost:8080/"
        },
        "id": "uybclPSeoBjV",
        "outputId": "29f7996e-d729-4894-a333-b17fca17ac35"
      },
      "execution_count": 12,
      "outputs": [
        {
          "output_type": "execute_result",
          "data": {
            "text/plain": [
              "[16, 25, 4, 9, 49]"
            ]
          },
          "metadata": {},
          "execution_count": 12
        }
      ]
    },
    {
      "cell_type": "code",
      "source": [
        "#Recebe uma lista de frutas e retorna uma lista com a quantitade de caracteres\n",
        "\n",
        "frutas = ['banana', 'pera', 'uva', 'cajá', 'manga']\n",
        "novaList = list(map(lambda x: len(x), frutas))\n",
        "novaList\n"
      ],
      "metadata": {
        "colab": {
          "base_uri": "https://localhost:8080/"
        },
        "id": "b-KjXrXfp9Sr",
        "outputId": "177a0c7d-540c-4310-caa8-68058b4aaaf1"
      },
      "execution_count": 13,
      "outputs": [
        {
          "output_type": "execute_result",
          "data": {
            "text/plain": [
              "[6, 4, 3, 4, 5]"
            ]
          },
          "metadata": {},
          "execution_count": 13
        }
      ]
    },
    {
      "cell_type": "code",
      "source": [
        "#pegar os preoços de uma lista e adicionar 2 a cada um deles\n",
        "precos = [9.99, 2.50, 3.45, 7.00, 10.99]\n",
        "pLista = list(map(lambda x: x+2, precos))\n",
        "pLista"
      ],
      "metadata": {
        "colab": {
          "base_uri": "https://localhost:8080/"
        },
        "id": "IK5fcxaCtUlx",
        "outputId": "8263335d-e195-4b6c-a504-fa017cc9c1db"
      },
      "execution_count": 18,
      "outputs": [
        {
          "output_type": "execute_result",
          "data": {
            "text/plain": [
              "[11.99, 4.5, 5.45, 9.0, 12.99]"
            ]
          },
          "metadata": {},
          "execution_count": 18
        }
      ]
    },
    {
      "cell_type": "code",
      "source": [
        "notas = [6, 7, 3.5, 9, 6.5]\n",
        "aprovados = list(filter(lambda x: x>=7, notas))\n",
        "aprovados"
      ],
      "metadata": {
        "colab": {
          "base_uri": "https://localhost:8080/"
        },
        "id": "3YUWBWlevNgh",
        "outputId": "829c45de-6e5f-4c53-a0f7-5464b54d7a52"
      },
      "execution_count": 19,
      "outputs": [
        {
          "output_type": "execute_result",
          "data": {
            "text/plain": [
              "[7, 9]"
            ]
          },
          "metadata": {},
          "execution_count": 19
        }
      ]
    }
  ]
}